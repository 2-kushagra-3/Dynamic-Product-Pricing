{
 "cells": [
  {
   "cell_type": "markdown",
   "metadata": {
    "application/vnd.databricks.v1+cell": {
     "cellMetadata": {
      "batchId": -5182002718832675,
      "byteLimit": 2048000,
      "rowLimit": 10000
     },
     "inputWidgets": {},
     "nuid": "bffc5b5b-bbfa-4f41-9fb4-8e3d24559172",
     "showTitle": false,
     "tableResultSettingsMap": {},
     "title": ""
    }
   },
   "source": [
    "READING CSV AND FILTERING NEEDED COLUMNS"
   ]
  },
  {
   "cell_type": "code",
   "execution_count": 0,
   "metadata": {
    "application/vnd.databricks.v1+cell": {
     "cellMetadata": {
      "byteLimit": 2048000,
      "rowLimit": 10000
     },
     "inputWidgets": {},
     "nuid": "13860945-0c7c-48e0-8875-c0bf15dec1e0",
     "showTitle": false,
     "tableResultSettingsMap": {
      "0": {
       "dataGridStateBlob": "{\"version\":1,\"tableState\":{\"columnPinning\":{\"left\":[\"#row_number#\"],\"right\":[]},\"columnSizing\":{},\"columnVisibility\":{}},\"settings\":{\"columns\":{}},\"syncTimestamp\":1753372745719}",
       "filterBlob": null,
       "queryPlanFiltersBlob": null,
       "tableResultIndex": 0
      }
     },
     "title": ""
    }
   },
   "outputs": [],
   "source": [
    "df = spark.read.option(\"header\", \"true\").csv(location).select(\"SKU\", \"Category\", \"Qty\", \"Amount\", \"Date\")\n",
    "display(df)"
   ]
  },
  {
   "cell_type": "markdown",
   "metadata": {
    "application/vnd.databricks.v1+cell": {
     "cellMetadata": {
      "batchId": -5182002718832675,
      "byteLimit": 2048000,
      "rowLimit": 10000
     },
     "inputWidgets": {},
     "nuid": "53621ba4-2f84-4f6f-a0c9-9ea6eba6328d",
     "showTitle": false,
     "tableResultSettingsMap": {},
     "title": ""
    }
   },
   "source": [
    "CASTING DATATYPES"
   ]
  },
  {
   "cell_type": "code",
   "execution_count": 0,
   "metadata": {
    "application/vnd.databricks.v1+cell": {
     "cellMetadata": {
      "byteLimit": 2048000,
      "rowLimit": 10000
     },
     "inputWidgets": {},
     "nuid": "0fab4aec-f8be-40aa-9de8-5f417525121a",
     "showTitle": false,
     "tableResultSettingsMap": {},
     "title": ""
    }
   },
   "outputs": [],
   "source": [
    "from pyspark.sql.functions import col\n",
    "df = df.withColumn(\"Qty\", col(\"Qty\").cast(\"int\")) \\\n",
    "       .withColumn(\"Amount\", col(\"Amount\").cast(\"double\"))\n",
    "\n",
    "df.printSchema()\n"
   ]
  },
  {
   "cell_type": "markdown",
   "metadata": {
    "application/vnd.databricks.v1+cell": {
     "cellMetadata": {
      "batchId": -5182002718832675,
      "byteLimit": 2048000,
      "rowLimit": 10000
     },
     "inputWidgets": {},
     "nuid": "72ead7c0-dc39-4b3f-a56d-ac6cc06ef807",
     "showTitle": false,
     "tableResultSettingsMap": {},
     "title": ""
    }
   },
   "source": [
    "SIMULATING THE BASE COST - .i.e. COST FROM SUPPLIER"
   ]
  },
  {
   "cell_type": "code",
   "execution_count": 0,
   "metadata": {
    "application/vnd.databricks.v1+cell": {
     "cellMetadata": {
      "byteLimit": 2048000,
      "rowLimit": 10000
     },
     "inputWidgets": {},
     "nuid": "392e789b-1025-470a-be45-41a4575e4779",
     "showTitle": false,
     "tableResultSettingsMap": {},
     "title": ""
    }
   },
   "outputs": [],
   "source": [
    "from pyspark.sql.functions import rand\n",
    "df = df.withColumn(\n",
    "    \"BaseCost\",\n",
    "    col(\"Amount\") * (1 - (rand() * 0.1 + 0.1))  # Random 10–20% less\n",
    ")\n",
    "\n"
   ]
  },
  {
   "cell_type": "markdown",
   "metadata": {
    "application/vnd.databricks.v1+cell": {
     "cellMetadata": {
      "batchId": -5182002718832675,
      "byteLimit": 2048000,
      "rowLimit": 10000
     },
     "inputWidgets": {},
     "nuid": "b3c2a294-31a6-42de-b335-8a6945f6884c",
     "showTitle": false,
     "tableResultSettingsMap": {},
     "title": ""
    }
   },
   "source": [
    "Group by SKU & Category to get sales summary"
   ]
  },
  {
   "cell_type": "code",
   "execution_count": 0,
   "metadata": {
    "application/vnd.databricks.v1+cell": {
     "cellMetadata": {
      "byteLimit": 2048000,
      "rowLimit": 10000
     },
     "inputWidgets": {},
     "nuid": "dc3448ab-e7c3-4bd5-9937-09e92aa4938e",
     "showTitle": false,
     "tableResultSettingsMap": {},
     "title": ""
    }
   },
   "outputs": [],
   "source": [
    "from pyspark.sql.functions import sum as spark_sum, avg\n",
    "\n",
    "sales_summary = (\n",
    "    df.groupBy(\"SKU\", \"Category\")\n",
    "      .agg(\n",
    "          spark_sum(\"Qty\").alias(\"TotalUnitsSold\"),\n",
    "          spark_sum(\"Amount\").alias(\"TotalRevenue\"),\n",
    "          spark_sum(\"BaseCost\").alias(\"TotalCost\"),\n",
    "          avg(\"Amount\").alias(\"AvgPrice\"),\n",
    "          avg(\"BaseCost\").alias(\"AvgBaseCost\")\n",
    "      )\n",
    ")\n",
    "\n",
    "sales_summary = sales_summary.withColumn(\n",
    "    \"GrossMarginValue\",\n",
    "    col(\"TotalRevenue\") - col(\"TotalCost\")\n",
    ").withColumn(\n",
    "    \"MarginPct\",\n",
    "    (col(\"AvgPrice\") - col(\"AvgBaseCost\")) / col(\"AvgPrice\")\n",
    ")\n",
    "\n",
    "sales_summary.show(5)\n"
   ]
  },
  {
   "cell_type": "markdown",
   "metadata": {
    "application/vnd.databricks.v1+cell": {
     "cellMetadata": {
      "byteLimit": 2048000,
      "rowLimit": 10000
     },
     "inputWidgets": {},
     "nuid": "9cd79691-4017-40ca-bfa4-b58d938a90c3",
     "showTitle": false,
     "tableResultSettingsMap": {},
     "title": ""
    }
   },
   "source": [
    "Compute margin % and rank SKUs within category"
   ]
  },
  {
   "cell_type": "code",
   "execution_count": 0,
   "metadata": {
    "application/vnd.databricks.v1+cell": {
     "cellMetadata": {
      "byteLimit": 2048000,
      "rowLimit": 10000
     },
     "inputWidgets": {},
     "nuid": "79cc4f28-e3ce-4b9f-a835-bd4a2f54844a",
     "showTitle": false,
     "tableResultSettingsMap": {},
     "title": ""
    }
   },
   "outputs": [],
   "source": [
    "from pyspark.sql.window import Window\n",
    "from pyspark.sql.functions import row_number, when\n",
    "\n",
    "windowSpec = Window.partitionBy(\"Category\").orderBy(col(\"GrossMarginValue\").desc())\n",
    "\n",
    "sales_summary = sales_summary.withColumn(\n",
    "    \"SalesRank\",\n",
    "    row_number().over(windowSpec)\n",
    ").withColumn(\n",
    "    \"IsAnchor\",\n",
    "    when(col(\"SalesRank\") == 1, True).otherwise(False)\n",
    ")\n",
    "\n",
    "sales_summary.show(5)\n"
   ]
  },
  {
   "cell_type": "markdown",
   "metadata": {
    "application/vnd.databricks.v1+cell": {
     "cellMetadata": {
      "byteLimit": 2048000,
      "rowLimit": 10000
     },
     "inputWidgets": {},
     "nuid": "12fc4f55-6787-47df-962f-d6dc172402c5",
     "showTitle": false,
     "tableResultSettingsMap": {},
     "title": ""
    }
   },
   "source": [
    "Get anchor price for each category & join back"
   ]
  },
  {
   "cell_type": "code",
   "execution_count": 0,
   "metadata": {
    "application/vnd.databricks.v1+cell": {
     "cellMetadata": {
      "byteLimit": 2048000,
      "rowLimit": 10000
     },
     "inputWidgets": {},
     "nuid": "af452d11-fafb-4bf0-8394-0e6a52330343",
     "showTitle": false,
     "tableResultSettingsMap": {},
     "title": ""
    }
   },
   "outputs": [],
   "source": [
    "anchor_prices = sales_summary.filter(col(\"IsAnchor\") == True).select(\n",
    "    \"Category\",\n",
    "    col(\"AvgPrice\").alias(\"AnchorAvgPrice\")\n",
    ")\n",
    "\n",
    "pricing_df = sales_summary.join(anchor_prices, on=\"Category\", how=\"left\")\n",
    "\n",
    "pricing_df.show(5)\n"
   ]
  },
  {
   "cell_type": "markdown",
   "metadata": {
    "application/vnd.databricks.v1+cell": {
     "cellMetadata": {
      "byteLimit": 2048000,
      "rowLimit": 10000
     },
     "inputWidgets": {},
     "nuid": "d8c951d2-e2e6-4d0c-af8c-35b6d15d080b",
     "showTitle": false,
     "tableResultSettingsMap": {},
     "title": ""
    }
   },
   "source": [
    "Apply final rule: 5% uplift for anchors, anchor minus 5% for non-anchors"
   ]
  },
  {
   "cell_type": "code",
   "execution_count": 0,
   "metadata": {
    "application/vnd.databricks.v1+cell": {
     "cellMetadata": {
      "byteLimit": 2048000,
      "rowLimit": 10000
     },
     "inputWidgets": {},
     "nuid": "8ff6ff96-6d58-45d6-8541-4478a2cf3ae3",
     "showTitle": false,
     "tableResultSettingsMap": {},
     "title": ""
    }
   },
   "outputs": [],
   "source": [
    "pricing_df = pricing_df.withColumn(\n",
    "    \"SuggestedPrice\",\n",
    "    when(\n",
    "        col(\"IsAnchor\") == True,\n",
    "        col(\"AvgPrice\") * 1.05  # Anchor uplift\n",
    "    ).otherwise(\n",
    "        col(\"AnchorAvgPrice\") * 1.05 * 0.95  # Non-anchor: anchor uplift -5%\n",
    "    )\n",
    ")\n",
    "\n",
    "pricing_df.select(\n",
    "    \"SKU\", \"Category\", \"IsAnchor\", \"AvgPrice\", \"SuggestedPrice\"\n",
    ").show(5)\n"
   ]
  },
  {
   "cell_type": "code",
   "execution_count": 0,
   "metadata": {
    "application/vnd.databricks.v1+cell": {
     "cellMetadata": {
      "byteLimit": 2048000,
      "rowLimit": 10000
     },
     "inputWidgets": {},
     "nuid": "0eb97f27-fde1-4a5d-87f4-abb6d5325cbc",
     "showTitle": false,
     "tableResultSettingsMap": {},
     "title": ""
    }
   },
   "outputs": [],
   "source": [
    "pricing_df.write.format(\"delta\").mode(\"overwrite\").option(\"path\", path).saveAsTable(\"brz_ghq_sales_flatfile_gcsi.sales\")"
   ]
  },
  {
   "cell_type": "code",
   "execution_count": 0,
   "metadata": {
    "application/vnd.databricks.v1+cell": {
     "cellMetadata": {},
     "inputWidgets": {},
     "nuid": "6aa677c2-e1e9-4583-8d7f-ce7247bb2676",
     "showTitle": false,
     "tableResultSettingsMap": {},
     "title": ""
    }
   },
   "outputs": [],
   "source": []
  }
 ],
 "metadata": {
  "application/vnd.databricks.v1+notebook": {
   "computePreferences": null,
   "dashboards": [],
   "environmentMetadata": {
    "base_environment": "",
    "environment_version": "2"
   },
   "inputWidgetPreferences": null,
   "language": "python",
   "notebookMetadata": {
    "pythonIndentUnit": 4
   },
   "notebookName": "Pricing",
   "widgets": {}
  },
  "language_info": {
   "name": "python"
  }
 },
 "nbformat": 4,
 "nbformat_minor": 0
}
