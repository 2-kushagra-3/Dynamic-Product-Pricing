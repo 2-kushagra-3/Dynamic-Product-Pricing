{
 "cells": [
  {
   "cell_type": "code",
   "execution_count": null,
   "id": "13108f60",
   "metadata": {},
   "outputs": [],
   "source": [
    "import requests\n",
    "\n",
    "url = \"https://api.perplexity.ai/chat/completions\"\n",
    "headers = {\n",
    "    \"Authorization\": \"Bearer \",  \n",
    "    \"Content-Type\": \"application/json\"\n",
    "}\n"
   ]
  },
  {
   "cell_type": "markdown",
   "id": "72cafc1c",
   "metadata": {},
   "source": [
    "Sample product data"
   ]
  },
  {
   "cell_type": "code",
   "execution_count": 19,
   "id": "cb19716d",
   "metadata": {},
   "outputs": [],
   "source": [
    "# Sample medical product data\n",
    "product_info = {\n",
    "    \"name\": \"Medipulse Digital Blood Pressure Monitor\",\n",
    "    \"features\": [\n",
    "        \"Accurate systolic and diastolic readings\",\n",
    "        \"Large LCD display with backlight\",\n",
    "        \"Memory storage for 120 readings\",\n",
    "        \"One-touch operation for easy use\",\n",
    "        \"Clinically validated for hospital use\"\n",
    "    ]\n",
    "}"
   ]
  },
  {
   "cell_type": "markdown",
   "id": "f103a8f4",
   "metadata": {},
   "source": [
    "Build the prompt"
   ]
  },
  {
   "cell_type": "code",
   "execution_count": 20,
   "id": "c60dcff8",
   "metadata": {},
   "outputs": [],
   "source": [
    "\n",
    "product_prompt = f\"\"\"\n",
    "You're helping a medical B2B supplier create compelling product listings.\n",
    "\n",
    "Write a professional, concise, and SEO-optimized product description for the following medical equipment, targeted for hospital procurement teams and distributors.\n",
    "\n",
    "Product Name: {product_info['name']}\n",
    "Features: {', '.join(product_info['features'])}\n",
    "\n",
    "Make sure to maintain a clinical tone and focus on reliability, usability, and compliance.\n",
    "\"\"\"\n"
   ]
  },
  {
   "cell_type": "markdown",
   "id": "d6aae2ed",
   "metadata": {},
   "source": [
    "\n",
    "\n",
    "\n",
    "\n",
    "Define the payload\n"
   ]
  },
  {
   "cell_type": "code",
   "execution_count": 21,
   "id": "570a47de",
   "metadata": {},
   "outputs": [],
   "source": [
    "payload = {\n",
    "    \"model\": \"sonar-pro\",\n",
    "    \"messages\": [\n",
    "        {\"role\": \"user\", \"content\": product_prompt}\n",
    "    ]\n",
    "}"
   ]
  },
  {
   "cell_type": "markdown",
   "id": "50a95b2f",
   "metadata": {},
   "source": [
    "\n",
    "Make the API call"
   ]
  },
  {
   "cell_type": "code",
   "execution_count": 22,
   "id": "b6be1026",
   "metadata": {},
   "outputs": [
    {
     "name": "stdout",
     "output_type": "stream",
     "text": [
      "\n",
      "🩺 Suggested Product Description:\n",
      "\n",
      "Medipulse Digital Blood Pressure Monitor\n",
      "\n",
      "Engineered for clinical environments, the **Medipulse Digital Blood Pressure Monitor** delivers reliable, accurate systolic and diastolic readings for robust patient monitoring in hospitals and medical facilities. Designed for procurement professionals seeking dependable performance and compliance, this device ensures precise measurement and ease of use in demanding clinical workflows[1].\n",
      "\n",
      "**Key Features:**\n",
      "- **Clinically validated** for hospital and professional healthcare settings\n",
      "- **Accurate systolic and diastolic readings** to support critical clinical decision-making\n",
      "- **Large LCD display with backlight** for clear visibility in all lighting conditions\n",
      "- **Memory storage for 120 readings,** enabling patient data tracking and streamlined documentation\n",
      "- **One-touch operation** simplifies training, reduces staff time, and minimizes user error\n",
      "\n",
      "The Medipulse Digital Blood Pressure Monitor is designed to enhance operational efficiency, ensure consistent compliance with clinical validation standards, and optimize patient care delivery in hospitals and healthcare facilities[1][2].\n"
     ]
    }
   ],
   "source": [
    "\n",
    "response = requests.post(url, headers=headers, json=payload)\n",
    "\n",
    "try:\n",
    "    result = response.json()\n",
    "    print(\"\\n🩺 Suggested Product Description:\\n\")\n",
    "    print(result[\"choices\"][0][\"message\"][\"content\"])\n",
    "except Exception as e:\n",
    "    print(\"Error parsing response:\", e)\n",
    "    print(response.text)\n"
   ]
  }
 ],
 "metadata": {
  "kernelspec": {
   "display_name": "Python 3",
   "language": "python",
   "name": "python3"
  },
  "language_info": {
   "codemirror_mode": {
    "name": "ipython",
    "version": 3
   },
   "file_extension": ".py",
   "mimetype": "text/x-python",
   "name": "python",
   "nbconvert_exporter": "python",
   "pygments_lexer": "ipython3",
   "version": "3.12.4"
  }
 },
 "nbformat": 4,
 "nbformat_minor": 5
}
