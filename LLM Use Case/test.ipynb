{
 "cells": [
  {
   "cell_type": "code",
   "execution_count": null,
   "id": "fc53952f",
   "metadata": {},
   "outputs": [
    {
     "name": "stdout",
     "output_type": "stream",
     "text": [
      "{'id': 'a8bfaaee-a5ee-4c25-88c2-2d3a22786d65', 'model': 'sonar-pro', 'created': 1753698425, 'usage': {'prompt_tokens': 13, 'completion_tokens': 407, 'total_tokens': 420, 'search_context_size': 'low'}, 'citations': ['https://www.cbssports.com/tennis/news/2025-french-open-results-schedule-as-jannik-sinner-faces-carlos-alcaraz-coco-gauff-earns-first-title/', 'https://www.olympics.com/en/news/jannik-sinner-carlos-alcaraz-french-open-2025-men-singles-final-live-results', \"https://en.wikipedia.org/wiki/2025_French_Open_%E2%80%93_Men's_singles\", 'https://www.cbssports.com/tennis/news/2025-french-open-results-jannik-sinner-dominates-novak-djokovic-sets-up-showdown-vs-carlos-alcaraz-in-final/', 'https://www.tennis.com/news/articles/who-were-the-winners-and-losers-at-2025-roland-garros'], 'search_results': [{'title': '2025 French Open: Results, schedule as Jannik Sinner ...', 'url': 'https://www.cbssports.com/tennis/news/2025-french-open-results-schedule-as-jannik-sinner-faces-carlos-alcaraz-coco-gauff-earns-first-title/', 'date': '2025-06-07', 'last_updated': '2025-06-16'}, {'title': 'Roland-Garros 2025: Carlos Alcaraz comes back to beat Jannik ...', 'url': 'https://www.olympics.com/en/news/jannik-sinner-carlos-alcaraz-french-open-2025-men-singles-final-live-results', 'date': '2025-06-08', 'last_updated': '2025-06-08'}, {'title': \"2025 French Open – Men's singles\", 'url': \"https://en.wikipedia.org/wiki/2025_French_Open_%E2%80%93_Men's_singles\", 'date': '2025-04-27', 'last_updated': '2025-07-25'}, {'title': '2025 French Open results: Jannik Sinner dominates Novak Djokovic ...', 'url': 'https://www.cbssports.com/tennis/news/2025-french-open-results-jannik-sinner-dominates-novak-djokovic-sets-up-showdown-vs-carlos-alcaraz-in-final/', 'date': '2025-06-06', 'last_updated': '2025-06-16'}, {'title': 'Who were the winners and losers at 2025 Roland Garros?', 'url': 'https://www.tennis.com/news/articles/who-were-the-winners-and-losers-at-2025-roland-garros', 'date': '2025-06-09', 'last_updated': '2025-06-16'}], 'object': 'chat.completion', 'choices': [{'index': 0, 'finish_reason': 'stop', 'message': {'role': 'assistant', 'content': \"**Carlos Alcaraz** won the 2025 French Open Men's Singles title, defeating **Jannik Sinner** in a historic five-set final: 4–6, 6–7(4–7), 6–4, 7–6(7–3), 7–6(10–2). **Coco Gauff** claimed the Women's Singles crown, overcoming **Aryna Sabalenka** in three sets[1][2][3][5].\\n\\n**Men's Final:**\\n- **Winner:** Carlos Alcaraz\\n- **Runner-up:** Jannik Sinner\\n- **Score:** 4–6, 6–7(4–7), 6–4, 7–6(7–3), 7–6(10–2)\\n- The match lasted **5 hours and 29 minutes**, making it the longest French Open final ever and the first to be decided in a fifth-set tiebreak under the new tiebreak rules[3].\\n- Alcaraz saved three championship points and came back from two sets down, becoming only the third man in the Open Era to win a major final after facing championship points[3].\\n- It was Alcaraz's **second French Open** and **fifth Grand Slam** title overall. This match also marked the first French Open final between two players born in the 2000s[3].\\n\\n**Women's Final:**\\n- **Winner:** Coco Gauff\\n- **Runner-up:** Aryna Sabalenka\\n- Gauff came from a set down to win her **second career Grand Slam** (her first being the 2023 US Open, also over Sabalenka)[1].\\n- Final score details are not explicitly stated in the search results, but Gauff won in three sets after dropping the first[1].\\n\\nThese finals were notable for their historical significance, thrilling comebacks, and young champions continuing to establish their dominance on the global stage.\"}, 'delta': {'role': 'assistant', 'content': ''}}]}\n"
     ]
    }
   ],
   "source": [
    "import requests\n",
    "\n",
    "# Set up the API endpoint and headers\n",
    "url = \"https://api.perplexity.ai/chat/completions\"\n",
    "headers = {\n",
    "    \"Authorization\": f\"Bearer {token}\",  # Replace with your actual API key\n",
    "    \"Content-Type\": \"application/json\"\n",
    "}\n",
    "\n",
    "# Define the request payload\n",
    "payload = {\n",
    "    \"model\": \"sonar-pro\",\n",
    "    \"messages\": [\n",
    "        {\"role\": \"user\", \"content\": \"What were the results of the 2025 French Open Finals?\"}\n",
    "    ]\n",
    "}\n",
    "\n",
    "# Make the API call\n",
    "response = requests.post(url, headers=headers, json=payload)\n",
    "\n",
    "# Print the AI's response\n",
    "print(response.json()) # replace with print(response.json()[\"choices\"][0]['message']['content']) for just the content"
   ]
  },
  {
   "cell_type": "code",
   "execution_count": null,
   "id": "287b1a4a",
   "metadata": {},
   "outputs": [],
   "source": []
  }
 ],
 "metadata": {
  "kernelspec": {
   "display_name": "Python 3",
   "language": "python",
   "name": "python3"
  },
  "language_info": {
   "codemirror_mode": {
    "name": "ipython",
    "version": 3
   },
   "file_extension": ".py",
   "mimetype": "text/x-python",
   "name": "python",
   "nbconvert_exporter": "python",
   "pygments_lexer": "ipython3",
   "version": "3.12.4"
  }
 },
 "nbformat": 4,
 "nbformat_minor": 5
}
